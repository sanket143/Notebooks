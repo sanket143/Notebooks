{
  "nbformat": 4,
  "nbformat_minor": 0,
  "metadata": {
    "colab": {
      "name": "Hacker-News-Analysis.ipynb",
      "version": "0.3.2",
      "provenance": [],
      "include_colab_link": true
    },
    "language_info": {
      "codemirror_mode": {
        "name": "ipython",
        "version": 3
      },
      "file_extension": ".py",
      "mimetype": "text/x-python",
      "name": "python",
      "nbconvert_exporter": "python",
      "pygments_lexer": "ipython3",
      "version": "3.4.3"
    },
    "kernelspec": {
      "display_name": "Python 3",
      "language": "python",
      "name": "python3"
    }
  },
  "cells": [
    {
      "cell_type": "markdown",
      "metadata": {
        "id": "view-in-github",
        "colab_type": "text"
      },
      "source": [
        "<a href=\"https://colab.research.google.com/github/sanket143/Notebooks/blob/master/Hacker_News_Analysis.ipynb\" target=\"_parent\"><img src=\"https://colab.research.google.com/assets/colab-badge.svg\" alt=\"Open In Colab\"/></a>"
      ]
    },
    {
      "cell_type": "markdown",
      "metadata": {
        "collapsed": true,
        "id": "xz_fip6rdd10",
        "colab_type": "text"
      },
      "source": [
        "# Hacker News Analysis"
      ]
    },
    {
      "cell_type": "markdown",
      "metadata": {
        "id": "XqoPNldJdd18",
        "colab_type": "text"
      },
      "source": [
        "This notebook compares the number of comments on \"Ask HN\" and \"Show HN\" posts."
      ]
    },
    {
      "cell_type": "code",
      "metadata": {
        "id": "WWuzGr94dd1_",
        "colab_type": "code",
        "colab": {},
        "outputId": "41852654-4295-4312-9a35-edd2f2d7d87d"
      },
      "source": [
        "from csv import reader\n",
        "\n",
        "hacker_news_file = open(\"hacker_news.csv\");\n",
        "hn = list(reader(hacker_news_file));\n",
        "\n",
        "print(hn[:5])"
      ],
      "execution_count": 0,
      "outputs": [
        {
          "output_type": "stream",
          "text": [
            "[['id', 'title', 'url', 'num_points', 'num_comments', 'author', 'created_at'], ['12224879', 'Interactive Dynamic Video', 'http://www.interactivedynamicvideo.com/', '386', '52', 'ne0phyte', '8/4/2016 11:52'], ['10975351', 'How to Use Open Source and Shut the Fuck Up at the Same Time', 'http://hueniverse.com/2016/01/26/how-to-use-open-source-and-shut-the-fuck-up-at-the-same-time/', '39', '10', 'josep2', '1/26/2016 19:30'], ['11964716', \"Florida DJs May Face Felony for April Fools' Water Joke\", 'http://www.thewire.com/entertainment/2013/04/florida-djs-april-fools-water-joke/63798/', '2', '1', 'vezycash', '6/23/2016 22:20'], ['11919867', 'Technology ventures: From Idea to Enterprise', 'https://www.amazon.com/Technology-Ventures-Enterprise-Thomas-Byers/dp/0073523429', '3', '1', 'hswarna', '6/17/2016 0:01']]\n"
          ],
          "name": "stdout"
        }
      ]
    },
    {
      "cell_type": "code",
      "metadata": {
        "scrolled": false,
        "id": "PFYHR2M0dd2T",
        "colab_type": "code",
        "colab": {},
        "outputId": "0babf7ed-2e12-4d23-a32c-a811a0d8253e"
      },
      "source": [
        "headers = hn[0]\n",
        "hn = hn[1:]\n",
        "\n",
        "print(headers)\n",
        "print(hn[:5])"
      ],
      "execution_count": 0,
      "outputs": [
        {
          "output_type": "stream",
          "text": [
            "['id', 'title', 'url', 'num_points', 'num_comments', 'author', 'created_at']\n",
            "[['12224879', 'Interactive Dynamic Video', 'http://www.interactivedynamicvideo.com/', '386', '52', 'ne0phyte', '8/4/2016 11:52'], ['10975351', 'How to Use Open Source and Shut the Fuck Up at the Same Time', 'http://hueniverse.com/2016/01/26/how-to-use-open-source-and-shut-the-fuck-up-at-the-same-time/', '39', '10', 'josep2', '1/26/2016 19:30'], ['11964716', \"Florida DJs May Face Felony for April Fools' Water Joke\", 'http://www.thewire.com/entertainment/2013/04/florida-djs-april-fools-water-joke/63798/', '2', '1', 'vezycash', '6/23/2016 22:20'], ['11919867', 'Technology ventures: From Idea to Enterprise', 'https://www.amazon.com/Technology-Ventures-Enterprise-Thomas-Byers/dp/0073523429', '3', '1', 'hswarna', '6/17/2016 0:01'], ['10301696', 'Note by Note: The Making of Steinway L1037 (2007)', 'http://www.nytimes.com/2007/11/07/movies/07stein.html?_r=0', '8', '2', 'walterbell', '9/30/2015 4:12']]\n"
          ],
          "name": "stdout"
        }
      ]
    },
    {
      "cell_type": "code",
      "metadata": {
        "id": "xd7djse2dd2f",
        "colab_type": "code",
        "colab": {},
        "outputId": "8c349c7e-6203-4fd1-ed21-ed5c858b1207"
      },
      "source": [
        "ask_posts = []\n",
        "show_posts = []\n",
        "other_posts = []\n",
        "\n",
        "for row in hn:\n",
        "    title = row[1]\n",
        "    if title.lower().startswith(\"ask hn\"):\n",
        "        ask_posts.append(row);\n",
        "    elif title.lower().startswith(\"show hn\"):\n",
        "        show_posts.append(row);\n",
        "    else:\n",
        "        other_posts.append(row);\n",
        "\n",
        "print(len(ask_posts), len(show_posts), len(other_posts));"
      ],
      "execution_count": 0,
      "outputs": [
        {
          "output_type": "stream",
          "text": [
            "1744 1162 17194\n"
          ],
          "name": "stdout"
        }
      ]
    },
    {
      "cell_type": "code",
      "metadata": {
        "id": "Jnjqfbjfdd2u",
        "colab_type": "code",
        "colab": {},
        "outputId": "b39fa430-ad18-450a-9452-da59eda51f34"
      },
      "source": [
        "print(ask_posts[:5])\n",
        "print(show_posts[:5])"
      ],
      "execution_count": 0,
      "outputs": [
        {
          "output_type": "stream",
          "text": [
            "[['12296411', 'Ask HN: How to improve my personal website?', '', '2', '6', 'ahmedbaracat', '8/16/2016 9:55'], ['10610020', 'Ask HN: Am I the only one outraged by Twitter shutting down share counts?', '', '28', '29', 'tkfx', '11/22/2015 13:43'], ['11610310', 'Ask HN: Aby recent changes to CSS that broke mobile?', '', '1', '1', 'polskibus', '5/2/2016 10:14'], ['12210105', 'Ask HN: Looking for Employee #3 How do I do it?', '', '1', '3', 'sph130', '8/2/2016 14:20'], ['10394168', 'Ask HN: Someone offered to buy my browser extension from me. What now?', '', '28', '17', 'roykolak', '10/15/2015 16:38']]\n",
            "[['10627194', 'Show HN: Wio Link  ESP8266 Based Web of Things Hardware Development Platform', 'https://iot.seeed.cc', '26', '22', 'kfihihc', '11/25/2015 14:03'], ['10646440', 'Show HN: Something pointless I made', 'http://dn.ht/picklecat/', '747', '102', 'dhotson', '11/29/2015 22:46'], ['11590768', 'Show HN: Shanhu.io, a programming playground powered by e8vm', 'https://shanhu.io', '1', '1', 'h8liu', '4/28/2016 18:05'], ['12178806', 'Show HN: Webscope  Easy way for web developers to communicate with Clients', 'http://webscopeapp.com', '3', '3', 'fastbrick', '7/28/2016 7:11'], ['10872799', 'Show HN: GeoScreenshot  Easily test Geo-IP based web pages', 'https://www.geoscreenshot.com/', '1', '9', 'kpsychwave', '1/9/2016 20:45']]\n"
          ],
          "name": "stdout"
        }
      ]
    },
    {
      "cell_type": "code",
      "metadata": {
        "scrolled": true,
        "id": "sl2ZprQxdd25",
        "colab_type": "code",
        "colab": {},
        "outputId": "2d4b7a67-df16-4e41-ed26-d5777a7d546f"
      },
      "source": [
        "total_ask_comments = 0\n",
        "total_show_comments = 0\n",
        "\n",
        "for row in ask_posts:\n",
        "    total_ask_comments += int(row[4])\n",
        "\n",
        "avg_ask_comments = total_ask_comments / len(ask_posts)\n",
        "\n",
        "for row in show_posts:\n",
        "    total_show_comments += int(row[4])\n",
        "    \n",
        "avg_show_comments = total_show_comments / len(show_posts)\n",
        "\n",
        "print(avg_ask_comments, avg_show_comments)"
      ],
      "execution_count": 0,
      "outputs": [
        {
          "output_type": "stream",
          "text": [
            "14.038417431192661 10.31669535283993\n"
          ],
          "name": "stdout"
        }
      ]
    },
    {
      "cell_type": "markdown",
      "metadata": {
        "id": "-xGZvNP5dd3D",
        "colab_type": "text"
      },
      "source": [
        "Avg Ask  HN posts: 14.038\n",
        "Avg Show HN posts: 10.31\n",
        "\n",
        "People comment on \"Ask HN\" posts more than \"Show HN\""
      ]
    },
    {
      "cell_type": "code",
      "metadata": {
        "id": "4eWdwpHhdd3F",
        "colab_type": "code",
        "colab": {}
      },
      "source": [
        "import datetime as dt\n",
        "\n",
        "result_list = []\n",
        "\n",
        "for row in ask_posts:\n",
        "    result_list.append([row[6], int(row[4])])\n",
        "    \n",
        "counts_by_hour = {}\n",
        "comments_by_hour = {}\n",
        "\n",
        "for row in result_list:\n",
        "    post_date = dt.datetime.strptime(row[0], \"%m/%d/%Y %H:%M\")\n",
        "    hour = post_date.strftime(\"%H\");\n",
        "    \n",
        "    if hour not in counts_by_hour:\n",
        "        counts_by_hour[hour] = 1;\n",
        "        comments_by_hour[hour] = row[1];\n",
        "    else:\n",
        "        counts_by_hour[hour] += 1;\n",
        "        comments_by_hour[hour] += row[1]\n"
      ],
      "execution_count": 0,
      "outputs": []
    },
    {
      "cell_type": "code",
      "metadata": {
        "id": "FcS1RhCVdd3P",
        "colab_type": "code",
        "colab": {},
        "outputId": "4371ee60-8fa6-4d91-b597-a43fbf488acb"
      },
      "source": [
        "avg_by_hour = [];\n",
        "\n",
        "for hour in counts_by_hour:\n",
        "    avg = comments_by_hour[hour] / counts_by_hour[hour];\n",
        "    avg_by_hour.append([hour, avg])\n",
        "\n",
        "print(avg_by_hour)"
      ],
      "execution_count": 0,
      "outputs": [
        {
          "output_type": "stream",
          "text": [
            "[['05', 10.08695652173913], ['17', 11.46], ['15', 38.5948275862069], ['06', 9.022727272727273], ['11', 11.051724137931034], ['00', 8.127272727272727], ['23', 7.985294117647059], ['18', 13.20183486238532], ['07', 7.852941176470588], ['16', 16.796296296296298], ['08', 10.25], ['01', 11.383333333333333], ['14', 13.233644859813085], ['12', 9.41095890410959], ['13', 14.741176470588234], ['21', 16.009174311926607], ['22', 6.746478873239437], ['20', 21.525], ['10', 13.440677966101696], ['04', 7.170212765957447], ['19', 10.8], ['09', 5.5777777777777775], ['02', 23.810344827586206], ['03', 7.796296296296297]]\n"
          ],
          "name": "stdout"
        }
      ]
    },
    {
      "cell_type": "code",
      "metadata": {
        "id": "R3yp-iI3dd3e",
        "colab_type": "code",
        "colab": {},
        "outputId": "7eaaa21a-1a09-48d7-9b0b-fde475de40d5"
      },
      "source": [
        "swap_avg_by_hour = []\n",
        "\n",
        "for row in avg_by_hour:\n",
        "    swap_avg_by_hour.append([row[1], row[0]])\n",
        "    \n",
        "print(swap_avg_by_hour)\n",
        "\n",
        "sorted_swap = sorted(swap_avg_by_hour, reverse=True)\n"
      ],
      "execution_count": 0,
      "outputs": [
        {
          "output_type": "stream",
          "text": [
            "[[10.08695652173913, '05'], [11.46, '17'], [38.5948275862069, '15'], [9.022727272727273, '06'], [11.051724137931034, '11'], [8.127272727272727, '00'], [7.985294117647059, '23'], [13.20183486238532, '18'], [7.852941176470588, '07'], [16.796296296296298, '16'], [10.25, '08'], [11.383333333333333, '01'], [13.233644859813085, '14'], [9.41095890410959, '12'], [14.741176470588234, '13'], [16.009174311926607, '21'], [6.746478873239437, '22'], [21.525, '20'], [13.440677966101696, '10'], [7.170212765957447, '04'], [10.8, '19'], [5.5777777777777775, '09'], [23.810344827586206, '02'], [7.796296296296297, '03']]\n"
          ],
          "name": "stdout"
        }
      ]
    },
    {
      "cell_type": "code",
      "metadata": {
        "id": "MV7gmqzRdd3m",
        "colab_type": "code",
        "colab": {},
        "outputId": "2983a421-0e74-4b53-abb7-1bccbb6f3168"
      },
      "source": [
        "print(\"Top 5 Hours for Ask Posts Comments\")\n",
        "\n",
        "for row in sorted_swap[:5]:\n",
        "    template = \"{}:00: {:.2f} average comments per post\"\n",
        "    summary = template.format(row[1], float(row[0]))\n",
        "    print(summary)\n",
        "    "
      ],
      "execution_count": 0,
      "outputs": [
        {
          "output_type": "stream",
          "text": [
            "Top 5 Hours for Ask Posts Comments\n",
            "15:00: 38.59 average comments per post\n",
            "02:00: 23.81 average comments per post\n",
            "20:00: 21.52 average comments per post\n",
            "16:00: 16.80 average comments per post\n",
            "21:00: 16.01 average comments per post\n"
          ],
          "name": "stdout"
        }
      ]
    }
  ]
}